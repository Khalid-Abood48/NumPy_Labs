{
 "cells": [
  {
   "cell_type": "code",
   "execution_count": 3,
   "id": "212fd1ba",
   "metadata": {},
   "outputs": [
    {
     "name": "stdout",
     "output_type": "stream",
     "text": [
      "Collecting numpy\n",
      "  Obtaining dependency information for numpy from https://files.pythonhosted.org/packages/3f/6b/5610004206cf7f8e7ad91c5a85a8c71b2f2f8051a0c0c4d5916b76d6cbb2/numpy-1.26.4-cp311-cp311-win_amd64.whl.metadata\n",
      "  Downloading numpy-1.26.4-cp311-cp311-win_amd64.whl.metadata (61 kB)\n",
      "     ---------------------------------------- 0.0/61.0 kB ? eta -:--:--\n",
      "     ------ --------------------------------- 10.2/61.0 kB ? eta -:--:--\n",
      "     ------------ ------------------------- 20.5/61.0 kB 330.3 kB/s eta 0:00:01\n",
      "     ------------------------- ------------ 41.0/61.0 kB 281.8 kB/s eta 0:00:01\n",
      "     -------------------------------------- 61.0/61.0 kB 362.9 kB/s eta 0:00:00\n",
      "Downloading numpy-1.26.4-cp311-cp311-win_amd64.whl (15.8 MB)\n",
      "   ---------------------------------------- 0.0/15.8 MB ? eta -:--:--\n",
      "   ---------------------------------------- 0.1/15.8 MB 3.2 MB/s eta 0:00:05\n",
      "   ---------------------------------------- 0.1/15.8 MB 787.7 kB/s eta 0:00:20\n",
      "   ---------------------------------------- 0.2/15.8 MB 1.3 MB/s eta 0:00:12\n",
      "    --------------------------------------- 0.2/15.8 MB 1.5 MB/s eta 0:00:11\n",
      "   - -------------------------------------- 0.4/15.8 MB 1.9 MB/s eta 0:00:09\n",
      "   - -------------------------------------- 0.5/15.8 MB 1.9 MB/s eta 0:00:09\n",
      "   - -------------------------------------- 0.7/15.8 MB 2.2 MB/s eta 0:00:07\n",
      "   -- ------------------------------------- 1.0/15.8 MB 2.8 MB/s eta 0:00:06\n",
      "   -- ------------------------------------- 1.1/15.8 MB 2.6 MB/s eta 0:00:06\n",
      "   -- ------------------------------------- 1.1/15.8 MB 2.5 MB/s eta 0:00:06\n",
      "   ---- ----------------------------------- 1.7/15.8 MB 3.4 MB/s eta 0:00:05\n",
      "   ----- ---------------------------------- 2.2/15.8 MB 3.9 MB/s eta 0:00:04\n",
      "   ------ --------------------------------- 2.4/15.8 MB 4.1 MB/s eta 0:00:04\n",
      "   ------- -------------------------------- 2.8/15.8 MB 4.4 MB/s eta 0:00:03\n",
      "   -------- ------------------------------- 3.4/15.8 MB 4.9 MB/s eta 0:00:03\n",
      "   --------- ------------------------------ 3.8/15.8 MB 5.2 MB/s eta 0:00:03\n",
      "   ----------- ---------------------------- 4.5/15.8 MB 5.8 MB/s eta 0:00:02\n",
      "   ------------ --------------------------- 4.9/15.8 MB 6.1 MB/s eta 0:00:02\n",
      "   ------------- -------------------------- 5.4/15.8 MB 6.1 MB/s eta 0:00:02\n",
      "   --------------- ------------------------ 6.2/15.8 MB 6.8 MB/s eta 0:00:02\n",
      "   ---------------- ----------------------- 6.5/15.8 MB 6.8 MB/s eta 0:00:02\n",
      "   ------------------ --------------------- 7.4/15.8 MB 7.4 MB/s eta 0:00:02\n",
      "   ------------------- -------------------- 7.8/15.8 MB 7.4 MB/s eta 0:00:02\n",
      "   --------------------- ------------------ 8.5/15.8 MB 7.8 MB/s eta 0:00:01\n",
      "   ----------------------- ---------------- 9.2/15.8 MB 8.1 MB/s eta 0:00:01\n",
      "   ------------------------ --------------- 9.6/15.8 MB 8.1 MB/s eta 0:00:01\n",
      "   ------------------------- -------------- 10.3/15.8 MB 8.3 MB/s eta 0:00:01\n",
      "   --------------------------- ------------ 11.0/15.8 MB 10.6 MB/s eta 0:00:01\n",
      "   ----------------------------- ---------- 11.6/15.8 MB 11.9 MB/s eta 0:00:01\n",
      "   ----------------------------- ---------- 11.6/15.8 MB 11.7 MB/s eta 0:00:01\n",
      "   ------------------------------- -------- 12.4/15.8 MB 11.9 MB/s eta 0:00:01\n",
      "   -------------------------------- ------- 13.0/15.8 MB 12.4 MB/s eta 0:00:01\n",
      "   ---------------------------------- ----- 13.5/15.8 MB 12.1 MB/s eta 0:00:01\n",
      "   ----------------------------------- ---- 14.2/15.8 MB 12.3 MB/s eta 0:00:01\n",
      "   -------------------------------------- - 15.1/15.8 MB 12.6 MB/s eta 0:00:01\n",
      "   ---------------------------------------  15.6/15.8 MB 13.4 MB/s eta 0:00:01\n",
      "   ---------------------------------------  15.8/15.8 MB 12.8 MB/s eta 0:00:01\n",
      "   ---------------------------------------- 15.8/15.8 MB 12.3 MB/s eta 0:00:00\n",
      "Installing collected packages: numpy\n",
      "Successfully installed numpy-1.26.4\n",
      "Note: you may need to restart the kernel to use updated packages.\n"
     ]
    },
    {
     "name": "stderr",
     "output_type": "stream",
     "text": [
      "  WARNING: The script f2py.exe is installed in 'c:\\Users\\Khalid\\AppData\\Local\\Programs\\Python\\Python311\\Scripts' which is not on PATH.\n",
      "  Consider adding this directory to PATH or, if you prefer to suppress this warning, use --no-warn-script-location.\n",
      "\n",
      "[notice] A new release of pip is available: 23.2.1 -> 24.0\n",
      "[notice] To update, run: python.exe -m pip install --upgrade pip\n"
     ]
    }
   ],
   "source": [
    "pip install numpy"
   ]
  },
  {
   "cell_type": "code",
   "execution_count": 4,
   "id": "2f77a8da",
   "metadata": {},
   "outputs": [],
   "source": [
    "import numpy as np"
   ]
  },
  {
   "cell_type": "markdown",
   "id": "10803eb0",
   "metadata": {},
   "source": [
    "## Q#1: Create x array with elements equal to 1."
   ]
  },
  {
   "cell_type": "code",
   "execution_count": 8,
   "id": "3307454f",
   "metadata": {},
   "outputs": [
    {
     "name": "stdout",
     "output_type": "stream",
     "text": [
      "[1. 1. 1. 1. 1. 1. 1.]\n"
     ]
    }
   ],
   "source": [
    "# write your code here ^_^\n",
    "x = np.ones(7)\n",
    "print(x)"
   ]
  },
  {
   "cell_type": "markdown",
   "id": "7795306d",
   "metadata": {},
   "source": [
    "## Q#2: Create y array with elements equal to 0."
   ]
  },
  {
   "cell_type": "code",
   "execution_count": 10,
   "id": "9550b063",
   "metadata": {},
   "outputs": [
    {
     "name": "stdout",
     "output_type": "stream",
     "text": [
      "[0 0 0 0 0 0 0]\n"
     ]
    }
   ],
   "source": [
    "# write your code here ^_^\n",
    "y = np.full(7, 0)\n",
    "print(y)"
   ]
  },
  {
   "cell_type": "markdown",
   "id": "cde6a939",
   "metadata": {},
   "source": [
    "## Q#3: Add x and y arrays."
   ]
  },
  {
   "cell_type": "code",
   "execution_count": 11,
   "id": "71070d1d",
   "metadata": {},
   "outputs": [
    {
     "name": "stdout",
     "output_type": "stream",
     "text": [
      "[1. 1. 1. 1. 1. 1. 1.]\n"
     ]
    }
   ],
   "source": [
    "# write your code here ^_^\n",
    "result = np.add(x, y)\n",
    "print(result)"
   ]
  },
  {
   "cell_type": "markdown",
   "id": "ed854f4c",
   "metadata": {},
   "source": [
    "## Q#4: Print x array characteristics (e.g: dimension, shape, size, type)."
   ]
  },
  {
   "cell_type": "code",
   "execution_count": 12,
   "id": "32627c83",
   "metadata": {},
   "outputs": [
    {
     "name": "stdout",
     "output_type": "stream",
     "text": [
      "Dimension: 1\n",
      "Shape: (7,)\n",
      "Size: 7\n",
      "Type: float64\n"
     ]
    }
   ],
   "source": [
    "# write your code here ^_^\n",
    "print(\"Dimension:\", x.ndim)\n",
    "print(\"Shape:\", x.shape)\n",
    "print(\"Size:\", x.size)\n",
    "print(\"Type:\", x.dtype)"
   ]
  },
  {
   "cell_type": "markdown",
   "id": "dbd46a73",
   "metadata": {},
   "source": [
    "## Q#5: Create a 2D array \"called w\" as the following:\n",
    "\n",
    "|       |          |\n",
    "| ----- | -------- |\n",
    "| 11    | 12       |\n",
    "| 13    | 14       |\n",
    "| 15    | 16       |\n"
   ]
  },
  {
   "cell_type": "code",
   "execution_count": 16,
   "id": "b9c7bbb0",
   "metadata": {},
   "outputs": [
    {
     "name": "stdout",
     "output_type": "stream",
     "text": [
      "[[11 12]\n",
      " [13 14]\n",
      " [15 16]]\n"
     ]
    }
   ],
   "source": [
    "# write your code here ^_^\n",
    "w = np.array([[11, 12], [13, 14], [15, 16]])\n",
    "print(w)"
   ]
  },
  {
   "cell_type": "markdown",
   "id": "0e62bd09",
   "metadata": {},
   "source": [
    "## Q#6: Create z array contains the numbers from 1 to 3."
   ]
  },
  {
   "cell_type": "code",
   "execution_count": 17,
   "id": "cee8aba0",
   "metadata": {},
   "outputs": [
    {
     "name": "stdout",
     "output_type": "stream",
     "text": [
      "[1 2 3]\n"
     ]
    }
   ],
   "source": [
    "# write your code here ^_^\n",
    "z = np.arange(1, 4)\n",
    "print(z)"
   ]
  },
  {
   "cell_type": "markdown",
   "id": "32b00711",
   "metadata": {},
   "source": [
    "## Q#7: Combine the arrays z and w in horizontal way then save it in a new variable \"newArray\"."
   ]
  },
  {
   "cell_type": "code",
   "execution_count": 35,
   "id": "d218f892",
   "metadata": {},
   "outputs": [
    {
     "name": "stdout",
     "output_type": "stream",
     "text": [
      "[[ 1 11 12]\n",
      " [ 2 13 14]\n",
      " [ 3 15 16]]\n"
     ]
    }
   ],
   "source": [
    "# write your code here ^_^\n",
    "newArray = np.concatenate((z.reshape(-1, 1), w), axis=1)\n",
    "print(newArray)"
   ]
  },
  {
   "cell_type": "markdown",
   "id": "7e009910",
   "metadata": {},
   "source": [
    "## Q#8: Print all elements of \"newArray\" using the loop."
   ]
  },
  {
   "cell_type": "code",
   "execution_count": 28,
   "id": "abbed923",
   "metadata": {},
   "outputs": [
    {
     "name": "stdout",
     "output_type": "stream",
     "text": [
      "[ 1 11 12]\n",
      "[ 2 13 14]\n",
      "[ 3 15 16]\n"
     ]
    }
   ],
   "source": [
    "# write your code here ^_^\n",
    "for i in newArray:\n",
    "    print(i)"
   ]
  },
  {
   "cell_type": "markdown",
   "id": "011c6d2d",
   "metadata": {},
   "source": [
    "## Q#9: Reverse the columns and rows of \"newArray\"."
   ]
  },
  {
   "cell_type": "code",
   "execution_count": 36,
   "id": "12e3f0db",
   "metadata": {},
   "outputs": [
    {
     "name": "stdout",
     "output_type": "stream",
     "text": [
      "[[16 15  3]\n",
      " [14 13  2]\n",
      " [12 11  1]]\n"
     ]
    }
   ],
   "source": [
    "# write your code here ^_^\n",
    "newArray = newArray[:, ::-1]\n",
    "newArray = newArray[::-1, :]\n",
    "\n",
    "print(newArray)"
   ]
  },
  {
   "cell_type": "markdown",
   "id": "f40b57c3",
   "metadata": {},
   "source": [
    "## Q#10: Decrement all elements of \"newArray\" with 1."
   ]
  },
  {
   "cell_type": "code",
   "execution_count": 37,
   "id": "aea004df",
   "metadata": {},
   "outputs": [
    {
     "name": "stdout",
     "output_type": "stream",
     "text": [
      "[[15 14  2]\n",
      " [13 12  1]\n",
      " [11 10  0]]\n"
     ]
    }
   ],
   "source": [
    "# write your code here ^_^\n",
    "newArray -= 1\n",
    "\n",
    "print(newArray)"
   ]
  },
  {
   "cell_type": "markdown",
   "id": "8901e8be",
   "metadata": {},
   "source": [
    "## Q#11: Find smallest and biggest values in \"newArray\"."
   ]
  },
  {
   "cell_type": "code",
   "execution_count": 33,
   "id": "4ea08613",
   "metadata": {},
   "outputs": [
    {
     "name": "stdout",
     "output_type": "stream",
     "text": [
      "Smallest value: -1\n",
      "Biggest value: 14\n"
     ]
    }
   ],
   "source": [
    "# write your code here ^_^\n",
    "smallest = np.min(newArray)\n",
    "biggest = np.max(newArray)\n",
    "\n",
    "print(\"Smallest value:\", smallest)\n",
    "print(\"Biggest value:\", biggest)"
   ]
  },
  {
   "cell_type": "markdown",
   "id": "c5d5d4ca",
   "metadata": {},
   "source": [
    "## Q#12: Print the first row of \"newArray\" using indexing."
   ]
  },
  {
   "cell_type": "code",
   "execution_count": 43,
   "id": "73e3b5a5",
   "metadata": {},
   "outputs": [
    {
     "name": "stdout",
     "output_type": "stream",
     "text": [
      "[[15 14  2]]\n"
     ]
    }
   ],
   "source": [
    "# write your code here ^_^\n",
    "print(np.take(newArray, [0], axis=0))"
   ]
  },
  {
   "cell_type": "markdown",
   "id": "78f4d6c1",
   "metadata": {},
   "source": [
    "## Q#13: Print the number equals 12 of \"newArray\" using indexing."
   ]
  },
  {
   "cell_type": "code",
   "execution_count": 47,
   "id": "7ad660b7",
   "metadata": {},
   "outputs": [
    {
     "name": "stdout",
     "output_type": "stream",
     "text": [
      "[12]\n"
     ]
    }
   ],
   "source": [
    "# write your code here ^_^\n",
    "print(newArray[newArray == 12])"
   ]
  },
  {
   "cell_type": "markdown",
   "id": "932b5c3d",
   "metadata": {},
   "source": [
    "## Q#14: Print the numbers equal 0 and 13 of \"newArray\" using indexing."
   ]
  },
  {
   "cell_type": "code",
   "execution_count": 46,
   "id": "31fb5fd0",
   "metadata": {},
   "outputs": [
    {
     "name": "stdout",
     "output_type": "stream",
     "text": [
      "[0]\n",
      "[13]\n"
     ]
    }
   ],
   "source": [
    "# write your code here ^_^\n",
    "print(newArray[newArray == 0])\n",
    "print(newArray[newArray == 13])"
   ]
  },
  {
   "cell_type": "markdown",
   "id": "27e0f68e",
   "metadata": {},
   "source": [
    "## Q#15: Change the shape of \"newArray\" to (9,1)."
   ]
  },
  {
   "cell_type": "code",
   "execution_count": 48,
   "id": "35f224ad",
   "metadata": {},
   "outputs": [
    {
     "name": "stdout",
     "output_type": "stream",
     "text": [
      "[[15]\n",
      " [14]\n",
      " [ 2]\n",
      " [13]\n",
      " [12]\n",
      " [ 1]\n",
      " [11]\n",
      " [10]\n",
      " [ 0]]\n"
     ]
    }
   ],
   "source": [
    "# write your code here ^_^\n",
    "newArray = np.reshape(newArray, (9, 1))\n",
    "\n",
    "print(newArray)"
   ]
  },
  {
   "cell_type": "markdown",
   "id": "e6d104c5",
   "metadata": {},
   "source": [
    "## Q#16: Change the shape of \"newArray\" to (3,2)."
   ]
  },
  {
   "cell_type": "code",
   "execution_count": 51,
   "id": "724d51d5",
   "metadata": {},
   "outputs": [
    {
     "name": "stdout",
     "output_type": "stream",
     "text": [
      "[[15 14]\n",
      " [ 2 13]\n",
      " [12  1]]\n"
     ]
    }
   ],
   "source": [
    "# write your code here ^_^\n",
    "newArray = newArray[:-3]\n",
    "newArray = np.reshape(newArray, (3, 2))\n",
    "\n",
    "print(newArray)"
   ]
  },
  {
   "cell_type": "markdown",
   "id": "09567fdc",
   "metadata": {},
   "source": [
    "# Well Done 🎉"
   ]
  }
 ],
 "metadata": {
  "kernelspec": {
   "display_name": "Python 3 (ipykernel)",
   "language": "python",
   "name": "python3"
  },
  "language_info": {
   "codemirror_mode": {
    "name": "ipython",
    "version": 3
   },
   "file_extension": ".py",
   "mimetype": "text/x-python",
   "name": "python",
   "nbconvert_exporter": "python",
   "pygments_lexer": "ipython3",
   "version": "3.11.7"
  }
 },
 "nbformat": 4,
 "nbformat_minor": 5
}
